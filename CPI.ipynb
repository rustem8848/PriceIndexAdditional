{
 "cells": [
  {
   "cell_type": "code",
   "execution_count": 1,
   "id": "91f0f5b3",
   "metadata": {},
   "outputs": [],
   "source": [
    "import pandas as pd\n",
    "import numpy as np\n",
    "import statsmodels.api as sm\n",
    "from sklearn.model_selection import train_test_split\n",
    "from sklearn.metrics import mean_absolute_error, mean_squared_error\n",
    "from datetime import datetime"
   ]
  },
  {
   "cell_type": "raw",
   "id": "a0f8366d",
   "metadata": {},
   "source": [
    "Попробовал обогатить данные ключевой ставкой. Из-за того, что данные ключевой ставки (ставки рефинансирования) были не с 01.01.1991, а только с 1992 года, то пришлось урезать данные ИПЦ. После этого метрики упали даже без учета ключевой ставки. При этом при добавлении ключевой ставки метрики чуть лучше чем без него.  \n",
    "|                Параметры                             |  MAE  |  RMSE  |  \n",
    "| Данные ИПЦ с 1991 года                               |  0.41 |  0.90  |  \n",
    "| Данные ИПЦ с 1992 года                               |  1.00 |  1.39  |  \n",
    "| Данные ИПЦ с 1992 года, обогащенные ключевой ставкой |  0.98 |  1.37  |  \n"
   ]
  },
  {
   "cell_type": "markdown",
   "id": "f5cf1253",
   "metadata": {},
   "source": [
    "### Прогноз только на основании ИПЦ"
   ]
  },
  {
   "cell_type": "code",
   "execution_count": 3,
   "id": "596d014f",
   "metadata": {},
   "outputs": [],
   "source": [
    "fileName = 'ipc_mes_02-2024.xlsx'\n",
    "excelColumns = 'B:AI'\n",
    "sheetName = '01'\n",
    "df = pd.read_excel(\n",
    "            fileName,\n",
    "            sheet_name=sheetName,\n",
    "            usecols=excelColumns,\n",
    "            nrows=12,\n",
    "            skiprows=[0, 1, 2, 4],\n",
    "            header=0\n",
    "        )"
   ]
  },
  {
   "cell_type": "code",
   "execution_count": 6,
   "id": "309c10cc",
   "metadata": {},
   "outputs": [],
   "source": [
    "transposed_df = df.transpose()\n",
    "cpi_series = transposed_df.stack()\n",
    "new_index = cpi_series.index.map(lambda x: datetime.strptime(f'{x[0]}-{x[1]+1}', '%Y-%m'))\n",
    "cpi_series.index = new_index\n",
    "cpi_series.index.freq = 'MS'"
   ]
  },
  {
   "cell_type": "code",
   "execution_count": 121,
   "id": "b686ca79",
   "metadata": {},
   "outputs": [
    {
     "data": {
      "text/plain": [
       "1991-01-01    106.20\n",
       "1991-02-01    104.80\n",
       "1991-03-01    106.30\n",
       "1991-04-01    163.50\n",
       "1991-05-01    103.00\n",
       "               ...  \n",
       "2023-10-01    100.83\n",
       "2023-11-01    101.11\n",
       "2023-12-01    100.73\n",
       "2024-01-01    100.86\n",
       "2024-02-01    100.68\n",
       "Freq: MS, Length: 398, dtype: float64"
      ]
     },
     "execution_count": 121,
     "metadata": {},
     "output_type": "execute_result"
    }
   ],
   "source": [
    "cpi_series"
   ]
  },
  {
   "cell_type": "code",
   "execution_count": 122,
   "id": "5b130f47",
   "metadata": {},
   "outputs": [],
   "source": [
    "train, test = train_test_split(cpi_series, test_size=0.2, shuffle=False)"
   ]
  },
  {
   "cell_type": "code",
   "execution_count": 123,
   "id": "d918bf8e",
   "metadata": {},
   "outputs": [],
   "source": [
    "order = (1, 0, 1)  # Example SARIMA order\n",
    "seasonal_order = (1, 1, 1, 12)  # Example seasonal order\n",
    "model = sm.tsa.SARIMAX(train, order=order, seasonal_order=seasonal_order)\n",
    "fit_model = model.fit(disp=False)"
   ]
  },
  {
   "cell_type": "code",
   "execution_count": 124,
   "id": "83b2e85b",
   "metadata": {},
   "outputs": [
    {
     "name": "stdout",
     "output_type": "stream",
     "text": [
      "0.41350087578109596 0.9028664227729162\n"
     ]
    }
   ],
   "source": [
    "predictions = fit_model.predict(\n",
    "    start=test.index[0], \n",
    "    end=test.index[-1],\n",
    "    exog=test,\n",
    "    dynamic=True\n",
    ")\n",
    "mae = mean_absolute_error(test, predictions)\n",
    "rmse = np.sqrt(mean_squared_error(test, predictions))\n",
    "print(mae, rmse)"
   ]
  },
  {
   "cell_type": "markdown",
   "id": "c8c78002",
   "metadata": {},
   "source": [
    "### Добавим ключевую ставку"
   ]
  },
  {
   "cell_type": "code",
   "execution_count": 72,
   "id": "5a204c59",
   "metadata": {},
   "outputs": [],
   "source": [
    "fileName = 'key_index.xlsx'\n",
    "sheetName = '3'\n",
    "df_key_rate = pd.read_excel(\n",
    "            fileName,\n",
    "            sheet_name=sheetName,\n",
    "            #usecols=excelColumns,\n",
    "            #nrows=12,\n",
    "            #skiprows=[0, 1, 2, 4],\n",
    "            header=0\n",
    "        )"
   ]
  },
  {
   "cell_type": "code",
   "execution_count": 80,
   "id": "6552a22e",
   "metadata": {},
   "outputs": [],
   "source": [
    "df_key_rate = df_key_rate.sort_values(by='Дата').reset_index(drop=True)"
   ]
  },
  {
   "cell_type": "code",
   "execution_count": 84,
   "id": "642f45f9",
   "metadata": {},
   "outputs": [],
   "source": [
    "df_new = pd.DataFrame()\n",
    "for date in pd.date_range(start=df_key_rate['Дата'].iloc[0], end=df_key_rate['Дата'].iloc[-1], freq='MS'):\n",
    "    value = df_key_rate.loc[(df_key_rate['Дата'] - date).abs().idxmin(), 'Ставка']\n",
    "    df_new = df_new.append({'Дата': date, 'Ставка': value}, ignore_index=True)\n",
    "\n",
    "df_key_rate = df_new"
   ]
  },
  {
   "cell_type": "code",
   "execution_count": 85,
   "id": "0e523b02",
   "metadata": {},
   "outputs": [
    {
     "data": {
      "text/html": [
       "<div>\n",
       "<style scoped>\n",
       "    .dataframe tbody tr th:only-of-type {\n",
       "        vertical-align: middle;\n",
       "    }\n",
       "\n",
       "    .dataframe tbody tr th {\n",
       "        vertical-align: top;\n",
       "    }\n",
       "\n",
       "    .dataframe thead th {\n",
       "        text-align: right;\n",
       "    }\n",
       "</style>\n",
       "<table border=\"1\" class=\"dataframe\">\n",
       "  <thead>\n",
       "    <tr style=\"text-align: right;\">\n",
       "      <th></th>\n",
       "      <th>Дата</th>\n",
       "      <th>Ставка</th>\n",
       "    </tr>\n",
       "  </thead>\n",
       "  <tbody>\n",
       "    <tr>\n",
       "      <th>0</th>\n",
       "      <td>2013-10-01</td>\n",
       "      <td>5.5</td>\n",
       "    </tr>\n",
       "    <tr>\n",
       "      <th>1</th>\n",
       "      <td>2013-11-01</td>\n",
       "      <td>5.5</td>\n",
       "    </tr>\n",
       "    <tr>\n",
       "      <th>2</th>\n",
       "      <td>2013-12-01</td>\n",
       "      <td>5.5</td>\n",
       "    </tr>\n",
       "    <tr>\n",
       "      <th>3</th>\n",
       "      <td>2014-01-01</td>\n",
       "      <td>5.5</td>\n",
       "    </tr>\n",
       "    <tr>\n",
       "      <th>4</th>\n",
       "      <td>2014-02-01</td>\n",
       "      <td>5.5</td>\n",
       "    </tr>\n",
       "    <tr>\n",
       "      <th>...</th>\n",
       "      <td>...</td>\n",
       "      <td>...</td>\n",
       "    </tr>\n",
       "    <tr>\n",
       "      <th>122</th>\n",
       "      <td>2023-12-01</td>\n",
       "      <td>15.0</td>\n",
       "    </tr>\n",
       "    <tr>\n",
       "      <th>123</th>\n",
       "      <td>2024-01-01</td>\n",
       "      <td>16.0</td>\n",
       "    </tr>\n",
       "    <tr>\n",
       "      <th>124</th>\n",
       "      <td>2024-02-01</td>\n",
       "      <td>16.0</td>\n",
       "    </tr>\n",
       "    <tr>\n",
       "      <th>125</th>\n",
       "      <td>2024-03-01</td>\n",
       "      <td>16.0</td>\n",
       "    </tr>\n",
       "    <tr>\n",
       "      <th>126</th>\n",
       "      <td>2024-04-01</td>\n",
       "      <td>16.0</td>\n",
       "    </tr>\n",
       "  </tbody>\n",
       "</table>\n",
       "<p>127 rows × 2 columns</p>\n",
       "</div>"
      ],
      "text/plain": [
       "          Дата  Ставка\n",
       "0   2013-10-01     5.5\n",
       "1   2013-11-01     5.5\n",
       "2   2013-12-01     5.5\n",
       "3   2014-01-01     5.5\n",
       "4   2014-02-01     5.5\n",
       "..         ...     ...\n",
       "122 2023-12-01    15.0\n",
       "123 2024-01-01    16.0\n",
       "124 2024-02-01    16.0\n",
       "125 2024-03-01    16.0\n",
       "126 2024-04-01    16.0\n",
       "\n",
       "[127 rows x 2 columns]"
      ]
     },
     "execution_count": 85,
     "metadata": {},
     "output_type": "execute_result"
    }
   ],
   "source": [
    "df_key_rate"
   ]
  },
  {
   "cell_type": "markdown",
   "id": "518b9756",
   "metadata": {},
   "source": [
    "#### До 2013 ставка рефинансирования"
   ]
  },
  {
   "cell_type": "code",
   "execution_count": 74,
   "id": "0ed6e73a",
   "metadata": {},
   "outputs": [],
   "source": [
    "fileName = 'key_index.xlsx'\n",
    "sheetName = '2'\n",
    "df_key_rate2 = pd.read_excel(\n",
    "            fileName,\n",
    "            sheet_name=sheetName,\n",
    "            #usecols=excelColumns,\n",
    "            #nrows=12,\n",
    "            #skiprows=[0, 1, 2, 4],\n",
    "            header=0\n",
    "        )"
   ]
  },
  {
   "cell_type": "code",
   "execution_count": 75,
   "id": "fafa11d5",
   "metadata": {},
   "outputs": [
    {
     "data": {
      "text/html": [
       "<div>\n",
       "<style scoped>\n",
       "    .dataframe tbody tr th:only-of-type {\n",
       "        vertical-align: middle;\n",
       "    }\n",
       "\n",
       "    .dataframe tbody tr th {\n",
       "        vertical-align: top;\n",
       "    }\n",
       "\n",
       "    .dataframe thead th {\n",
       "        text-align: right;\n",
       "    }\n",
       "</style>\n",
       "<table border=\"1\" class=\"dataframe\">\n",
       "  <thead>\n",
       "    <tr style=\"text-align: right;\">\n",
       "      <th></th>\n",
       "      <th>Начало</th>\n",
       "      <th>Конец</th>\n",
       "      <th>%</th>\n",
       "    </tr>\n",
       "  </thead>\n",
       "  <tbody>\n",
       "    <tr>\n",
       "      <th>0</th>\n",
       "      <td>14 сентября 2012 г.</td>\n",
       "      <td>31 декабря 2015 г.</td>\n",
       "      <td>8.25</td>\n",
       "    </tr>\n",
       "    <tr>\n",
       "      <th>1</th>\n",
       "      <td>26 декабря 2011 г.</td>\n",
       "      <td>13 сентября 2012 г.</td>\n",
       "      <td>8.00</td>\n",
       "    </tr>\n",
       "    <tr>\n",
       "      <th>2</th>\n",
       "      <td>3 мая 2011 г.</td>\n",
       "      <td>25 декабря 2011 г.</td>\n",
       "      <td>8.25</td>\n",
       "    </tr>\n",
       "    <tr>\n",
       "      <th>3</th>\n",
       "      <td>28 февраля 2011 г.</td>\n",
       "      <td>2 мая 2011 г.</td>\n",
       "      <td>8.00</td>\n",
       "    </tr>\n",
       "    <tr>\n",
       "      <th>4</th>\n",
       "      <td>1 июня 2010 г.</td>\n",
       "      <td>27 февраля 2011 г.</td>\n",
       "      <td>7.75</td>\n",
       "    </tr>\n",
       "    <tr>\n",
       "      <th>...</th>\n",
       "      <td>...</td>\n",
       "      <td>...</td>\n",
       "      <td>...</td>\n",
       "    </tr>\n",
       "    <tr>\n",
       "      <th>79</th>\n",
       "      <td>2 июня 1993 г.</td>\n",
       "      <td>21 июня 1993 г.</td>\n",
       "      <td>110.00</td>\n",
       "    </tr>\n",
       "    <tr>\n",
       "      <th>80</th>\n",
       "      <td>30 марта 1993 г.</td>\n",
       "      <td>1 июня 1993 г.</td>\n",
       "      <td>100.00</td>\n",
       "    </tr>\n",
       "    <tr>\n",
       "      <th>81</th>\n",
       "      <td>23 мая 1992 г.</td>\n",
       "      <td>29 марта 1993 г.</td>\n",
       "      <td>80.00</td>\n",
       "    </tr>\n",
       "    <tr>\n",
       "      <th>82</th>\n",
       "      <td>10 апреля 1992 г.</td>\n",
       "      <td>22 мая 1992 г.</td>\n",
       "      <td>50.00</td>\n",
       "    </tr>\n",
       "    <tr>\n",
       "      <th>83</th>\n",
       "      <td>1 января 1992 г.</td>\n",
       "      <td>9 апреля 1992 г.</td>\n",
       "      <td>20.00</td>\n",
       "    </tr>\n",
       "  </tbody>\n",
       "</table>\n",
       "<p>84 rows × 3 columns</p>\n",
       "</div>"
      ],
      "text/plain": [
       "                 Начало                 Конец       %\n",
       "0   14 сентября 2012 г.    31 декабря 2015 г.    8.25\n",
       "1   26 декабря 2011 г.    13 сентября 2012 г.    8.00\n",
       "2        3 мая 2011 г.     25 декабря 2011 г.    8.25\n",
       "3   28 февраля 2011 г.          2 мая 2011 г.    8.00\n",
       "4       1 июня 2010 г.     27 февраля 2011 г.    7.75\n",
       "..                  ...                   ...     ...\n",
       "79      2 июня 1993 г.        21 июня 1993 г.  110.00\n",
       "80    30 марта 1993 г.         1 июня 1993 г.  100.00\n",
       "81      23 мая 1992 г.       29 марта 1993 г.   80.00\n",
       "82   10 апреля 1992 г.         22 мая 1992 г.   50.00\n",
       "83    1 января 1992 г.       9 апреля 1992 г.   20.00\n",
       "\n",
       "[84 rows x 3 columns]"
      ]
     },
     "execution_count": 75,
     "metadata": {},
     "output_type": "execute_result"
    }
   ],
   "source": [
    "df_key_rate2"
   ]
  },
  {
   "cell_type": "code",
   "execution_count": 76,
   "id": "3ff15ec2",
   "metadata": {},
   "outputs": [],
   "source": [
    "dictianory = {\n",
    "    'января': '01', \n",
    "    'февраля': '02', \n",
    "    'марта': '03', \n",
    "    'апреля': '04', \n",
    "    'мая': '05', \n",
    "    'июня': '06', \n",
    "    'июля': '07', \n",
    "    'августа': '08', \n",
    "    'сентября': '09', \n",
    "    'октября': '10', \n",
    "    'ноября': '11', \n",
    "    'декабря': '12', \n",
    "}\n",
    "\n",
    "def convert_date(date_str):\n",
    "    date_str = date_str.strip()\n",
    "    date_str = date_str.replace('\\xa0', '')\n",
    "    for key in dictianory:\n",
    "        if key in date_str:\n",
    "            date_str = date_str.replace(key, '.' + dictianory[key] + '.')\n",
    "    date_str = date_str.replace('г.', '')\n",
    "    date_str = date_str.replace(' ', '')\n",
    "    date = datetime.strptime(date_str, '%d.%m.%Y')\n",
    "    return date #date.strftime('%d.%m.%Y')\n",
    "\n",
    "df_key_rate2['Начало'] = df_key_rate2['Начало'].apply(convert_date)\n",
    "df_key_rate2['Конец'] = df_key_rate2['Конец'].apply(convert_date)"
   ]
  },
  {
   "cell_type": "code",
   "execution_count": 77,
   "id": "4936eb36",
   "metadata": {},
   "outputs": [
    {
     "data": {
      "text/html": [
       "<div>\n",
       "<style scoped>\n",
       "    .dataframe tbody tr th:only-of-type {\n",
       "        vertical-align: middle;\n",
       "    }\n",
       "\n",
       "    .dataframe tbody tr th {\n",
       "        vertical-align: top;\n",
       "    }\n",
       "\n",
       "    .dataframe thead th {\n",
       "        text-align: right;\n",
       "    }\n",
       "</style>\n",
       "<table border=\"1\" class=\"dataframe\">\n",
       "  <thead>\n",
       "    <tr style=\"text-align: right;\">\n",
       "      <th></th>\n",
       "      <th>Начало</th>\n",
       "      <th>Конец</th>\n",
       "      <th>%</th>\n",
       "    </tr>\n",
       "  </thead>\n",
       "  <tbody>\n",
       "    <tr>\n",
       "      <th>0</th>\n",
       "      <td>2012-09-14</td>\n",
       "      <td>2015-12-31</td>\n",
       "      <td>8.25</td>\n",
       "    </tr>\n",
       "    <tr>\n",
       "      <th>1</th>\n",
       "      <td>2011-12-26</td>\n",
       "      <td>2012-09-13</td>\n",
       "      <td>8.00</td>\n",
       "    </tr>\n",
       "    <tr>\n",
       "      <th>2</th>\n",
       "      <td>2011-05-03</td>\n",
       "      <td>2011-12-25</td>\n",
       "      <td>8.25</td>\n",
       "    </tr>\n",
       "    <tr>\n",
       "      <th>3</th>\n",
       "      <td>2011-02-28</td>\n",
       "      <td>2011-05-02</td>\n",
       "      <td>8.00</td>\n",
       "    </tr>\n",
       "    <tr>\n",
       "      <th>4</th>\n",
       "      <td>2010-06-01</td>\n",
       "      <td>2011-02-27</td>\n",
       "      <td>7.75</td>\n",
       "    </tr>\n",
       "    <tr>\n",
       "      <th>...</th>\n",
       "      <td>...</td>\n",
       "      <td>...</td>\n",
       "      <td>...</td>\n",
       "    </tr>\n",
       "    <tr>\n",
       "      <th>79</th>\n",
       "      <td>1993-06-02</td>\n",
       "      <td>1993-06-21</td>\n",
       "      <td>110.00</td>\n",
       "    </tr>\n",
       "    <tr>\n",
       "      <th>80</th>\n",
       "      <td>1993-03-30</td>\n",
       "      <td>1993-06-01</td>\n",
       "      <td>100.00</td>\n",
       "    </tr>\n",
       "    <tr>\n",
       "      <th>81</th>\n",
       "      <td>1992-05-23</td>\n",
       "      <td>1993-03-29</td>\n",
       "      <td>80.00</td>\n",
       "    </tr>\n",
       "    <tr>\n",
       "      <th>82</th>\n",
       "      <td>1992-04-10</td>\n",
       "      <td>1992-05-22</td>\n",
       "      <td>50.00</td>\n",
       "    </tr>\n",
       "    <tr>\n",
       "      <th>83</th>\n",
       "      <td>1992-01-01</td>\n",
       "      <td>1992-04-09</td>\n",
       "      <td>20.00</td>\n",
       "    </tr>\n",
       "  </tbody>\n",
       "</table>\n",
       "<p>84 rows × 3 columns</p>\n",
       "</div>"
      ],
      "text/plain": [
       "       Начало      Конец       %\n",
       "0  2012-09-14 2015-12-31    8.25\n",
       "1  2011-12-26 2012-09-13    8.00\n",
       "2  2011-05-03 2011-12-25    8.25\n",
       "3  2011-02-28 2011-05-02    8.00\n",
       "4  2010-06-01 2011-02-27    7.75\n",
       "..        ...        ...     ...\n",
       "79 1993-06-02 1993-06-21  110.00\n",
       "80 1993-03-30 1993-06-01  100.00\n",
       "81 1992-05-23 1993-03-29   80.00\n",
       "82 1992-04-10 1992-05-22   50.00\n",
       "83 1992-01-01 1992-04-09   20.00\n",
       "\n",
       "[84 rows x 3 columns]"
      ]
     },
     "execution_count": 77,
     "metadata": {},
     "output_type": "execute_result"
    }
   ],
   "source": [
    "df_key_rate2"
   ]
  },
  {
   "cell_type": "code",
   "execution_count": 134,
   "id": "1ea20307",
   "metadata": {},
   "outputs": [],
   "source": [
    "final_df = pd.DataFrame(cpi_series).reset_index()"
   ]
  },
  {
   "cell_type": "code",
   "execution_count": 135,
   "id": "22f11f78",
   "metadata": {},
   "outputs": [],
   "source": [
    "final_df = pd.merge(final_df, df_key_rate, how='left', left_on='index', right_on='Дата')"
   ]
  },
  {
   "cell_type": "code",
   "execution_count": 136,
   "id": "04983182",
   "metadata": {},
   "outputs": [],
   "source": [
    "final_df = final_df.drop(columns=['Дата'])"
   ]
  },
  {
   "cell_type": "code",
   "execution_count": 137,
   "id": "49f8add1",
   "metadata": {},
   "outputs": [],
   "source": [
    "final_df = final_df.rename(columns={\"index\": \"Дата\", 0: \"ИПЦ\"})"
   ]
  },
  {
   "cell_type": "code",
   "execution_count": 138,
   "id": "8961b9bd",
   "metadata": {},
   "outputs": [],
   "source": [
    "final_df['%'] = final_df['Дата'].apply(\n",
    "    lambda x: df2.loc[(x >= df2['Начало']) & (x <= df2['Конец']), '%'].values[0] \n",
    "    if not df2.loc[(x >= df2['Начало']) & (x <= df2['Конец'])].empty else None\n",
    ")"
   ]
  },
  {
   "cell_type": "code",
   "execution_count": 139,
   "id": "b944c8a3",
   "metadata": {},
   "outputs": [],
   "source": [
    "mask = final_df['Дата'] < pd.to_datetime('2013-10-01')\n",
    "final_df.loc[mask,'Ставка'] = final_df.loc[mask,'%'] "
   ]
  },
  {
   "cell_type": "code",
   "execution_count": 140,
   "id": "6fb27a22",
   "metadata": {},
   "outputs": [],
   "source": [
    "final_df = final_df[final_df['Ставка'].notna()]"
   ]
  },
  {
   "cell_type": "code",
   "execution_count": 141,
   "id": "2a3b016b",
   "metadata": {},
   "outputs": [],
   "source": [
    "final_df.set_index('Дата', inplace=True)\n",
    "final_df.index.freq = 'MS'"
   ]
  },
  {
   "cell_type": "markdown",
   "id": "2bb23bfc",
   "metadata": {},
   "source": [
    "### Обучаем модель"
   ]
  },
  {
   "cell_type": "markdown",
   "id": "f7eb7a01",
   "metadata": {},
   "source": [
    "#### С учетом обрезки 1991 года без ключевой ставки"
   ]
  },
  {
   "cell_type": "code",
   "execution_count": 142,
   "id": "050ee17d",
   "metadata": {},
   "outputs": [],
   "source": [
    "train, test = train_test_split(final_df, test_size=0.2, shuffle=False)"
   ]
  },
  {
   "cell_type": "code",
   "execution_count": 143,
   "id": "535c7eee",
   "metadata": {},
   "outputs": [],
   "source": [
    "order = (1, 0, 1)\n",
    "seasonal_order = (1, 1, 1, 12)\n",
    "model = sm.tsa.SARIMAX(\n",
    "    train['ИПЦ'], \n",
    "    #exog=train['Ставка'],\n",
    "    order=order, \n",
    "    seasonal_order=seasonal_order)\n",
    "fit_model = model.fit(disp=False)"
   ]
  },
  {
   "cell_type": "code",
   "execution_count": 144,
   "id": "115db5d1",
   "metadata": {},
   "outputs": [
    {
     "name": "stdout",
     "output_type": "stream",
     "text": [
      "1.0093805165245135 1.3902868877362764\n"
     ]
    }
   ],
   "source": [
    "predictions = fit_model.predict(\n",
    "    start=test.index[0], \n",
    "    end=test.index[-1],\n",
    "    #exog=test['Ставка'],\n",
    "    dynamic=True\n",
    ")\n",
    "mae = mean_absolute_error(test['ИПЦ'], predictions)\n",
    "rmse = np.sqrt(mean_squared_error(test['ИПЦ'], predictions))\n",
    "print(mae, rmse)"
   ]
  },
  {
   "cell_type": "markdown",
   "id": "5c013694",
   "metadata": {},
   "source": [
    "#### С ключевой ставкой"
   ]
  },
  {
   "cell_type": "code",
   "execution_count": 146,
   "id": "03568ffb",
   "metadata": {},
   "outputs": [],
   "source": [
    "order = (1, 0, 1)\n",
    "seasonal_order = (1, 1, 1, 12)\n",
    "model = sm.tsa.SARIMAX(\n",
    "    train['ИПЦ'], \n",
    "    exog=train['Ставка'],\n",
    "    order=order, \n",
    "    seasonal_order=seasonal_order)\n",
    "fit_model = model.fit(disp=False)"
   ]
  },
  {
   "cell_type": "code",
   "execution_count": 147,
   "id": "088a52d8",
   "metadata": {},
   "outputs": [
    {
     "name": "stdout",
     "output_type": "stream",
     "text": [
      "0.977911748917865 1.3728803949922144\n"
     ]
    }
   ],
   "source": [
    "predictions = fit_model.predict(\n",
    "    start=test.index[0], \n",
    "    end=test.index[-1],\n",
    "    exog=test['Ставка'],\n",
    "    dynamic=True\n",
    ")\n",
    "mae = mean_absolute_error(test['ИПЦ'], predictions)\n",
    "rmse = np.sqrt(mean_squared_error(test['ИПЦ'], predictions))\n",
    "print(mae, rmse)"
   ]
  },
  {
   "cell_type": "code",
   "execution_count": null,
   "id": "175273f1",
   "metadata": {},
   "outputs": [],
   "source": []
  }
 ],
 "metadata": {
  "kernelspec": {
   "display_name": "Python 3 (ipykernel)",
   "language": "python",
   "name": "python3"
  },
  "language_info": {
   "codemirror_mode": {
    "name": "ipython",
    "version": 3
   },
   "file_extension": ".py",
   "mimetype": "text/x-python",
   "name": "python",
   "nbconvert_exporter": "python",
   "pygments_lexer": "ipython3",
   "version": "3.9.12"
  }
 },
 "nbformat": 4,
 "nbformat_minor": 5
}
